{
  "nbformat": 4,
  "nbformat_minor": 0,
  "metadata": {
    "colab": {
      "name": "Deep learning for ML problems.ipynb",
      "provenance": [],
      "collapsed_sections": []
    },
    "kernelspec": {
      "name": "python3",
      "display_name": "Python 3"
    }
  },
  "cells": [
    {
      "cell_type": "markdown",
      "metadata": {
        "id": "xt2EVeRO3mP0",
        "colab_type": "text"
      },
      "source": [
        "# Deep Learning - Getting Started\n",
        "\n",
        "## Multi-class image classification (MNIST dataset - Hello World of deep learning)\n",
        "The task is to classify grayscale images of handwritten digits (28 × 28 pixels) into their 10 categories (0 through 9). We’ll use the MNIST dataset, a classic in the machine-learning community, which has been around almost as long as the field itself and has been intensively studied. It’s a set of 60,000 training images, plus 10,000 test images, assembled by the National Institute of Standards and Technology (the NIST in MNIST) in the 1980s."
      ]
    },
    {
      "cell_type": "code",
      "metadata": {
        "id": "ZzRis-8JNUU8",
        "colab_type": "code",
        "colab": {
          "base_uri": "https://localhost:8080/",
          "height": 51
        },
        "outputId": "3b534fd3-e821-4e77-d631-4bca9d070ad1"
      },
      "source": [
        "# Important to work with tensorflow version 1\n",
        "%tensorflow_version 1.x \n",
        "import tensorflow as tf\n",
        "print(tf.__version__)"
      ],
      "execution_count": 1,
      "outputs": [
        {
          "output_type": "stream",
          "text": [
            "TensorFlow 1.x selected.\n",
            "1.15.2\n"
          ],
          "name": "stdout"
        }
      ]
    },
    {
      "cell_type": "code",
      "metadata": {
        "id": "J-CZJEi2gAb5",
        "colab_type": "code",
        "colab": {
          "base_uri": "https://localhost:8080/",
          "height": 557
        },
        "outputId": "90934475-3811-4375-d506-a1338c3df7c3"
      },
      "source": [
        "import matplotlib.pyplot as plt\n",
        "from keras import models\n",
        "from keras import layers\n",
        "\n",
        "# Getting the data and looking into it\n",
        "from keras.datasets import mnist\n",
        "(train_images, train_labels), (test_images, test_labels) = mnist.load_data() # This function returns a nested tuple which is assinged to 4 variables\n",
        "print(train_images.shape)\n",
        "print(train_labels[:10])\n",
        "digit = train_images[4] # Same as train_images[4,:,:]\n",
        "plt.imshow(digit, cmap = plt.cm.binary) # printing a digit\n",
        "plt.show()\n",
        "\n",
        "# Reshaping the data\n",
        "train_images = train_images.reshape((60000, 28 * 28)) # Changing from 60K samples with 28 rows x 28 cols to 60K samples with 784 rows x 1 col\n",
        "train_images = train_images.astype('float32') / 255   # Bringing the value between 0 and 1 using min-max logic, the min value is 0 and max value 255, so value - min / (max - min)\n",
        "test_images = test_images.reshape((10000, 28 * 28))\n",
        "test_images = test_images.astype('float32') / 255\n",
        "\n",
        "# Creating the categorical variable of each class through one-hot encoding\n",
        "\"\"\" This will create a column for each of the class and mark it 0 for all but 1 for the class this is a part of. \n",
        "The number of categories should match the number of nodes in final layer. See binary classification example below for details\"\"\"\n",
        "from keras.utils import to_categorical\n",
        "train_labels = to_categorical(train_labels)           \n",
        "test_labels = to_categorical(test_labels)\n",
        "\n",
        "# Building the sequential network\n",
        "network = models.Sequential()\n",
        "network.add(layers.Dense(512, activation='relu', input_shape=(28 * 28,))) # Relu is max(0, value)\n",
        "network.add(layers.Dense(10, activation='softmax'))\n",
        "network.compile(optimizer='rmsprop', loss='categorical_crossentropy', metrics=['accuracy'])\n",
        "\n",
        "# Training the network\n",
        "network.fit(train_images, train_labels, epochs=2, batch_size=128) # batch is always a power of 2 (usually 32) and defines the number of samples on which the algo runs before updating weights. Epoch is the number of iterations.\n",
        "\n",
        "# Evaluating the network on test data\n",
        "test_loss, test_acc = network.evaluate(train_images, train_labels)\n",
        "print('test_acc:', test_acc)\n"
      ],
      "execution_count": 2,
      "outputs": [
        {
          "output_type": "stream",
          "text": [
            "Using TensorFlow backend.\n"
          ],
          "name": "stderr"
        },
        {
          "output_type": "stream",
          "text": [
            "Downloading data from https://s3.amazonaws.com/img-datasets/mnist.npz\n",
            "11493376/11490434 [==============================] - 1s 0us/step\n",
            "(60000, 28, 28)\n",
            "[5 0 4 1 9 2 1 3 1 4]\n"
          ],
          "name": "stdout"
        },
        {
          "output_type": "display_data",
          "data": {
            "image/png": "[encoded data removed]",
            "text/plain": [
              "<Figure size 432x288 with 1 Axes>"
            ]
          },
          "metadata": {
            "tags": [],
            "needs_background": "light"
          }
        },
        {
          "output_type": "stream",
          "text": [
            "WARNING:tensorflow:From /tensorflow-1.15.2/python3.6/tensorflow_core/python/ops/resource_variable_ops.py:1630: calling BaseResourceVariable.__init__ (from tensorflow.python.ops.resource_variable_ops) with constraint is deprecated and will be removed in a future version.\n",
            "Instructions for updating:\n",
            "If using Keras pass *_constraint arguments to layers.\n",
            "WARNING:tensorflow:From /usr/local/lib/python3.6/dist-packages/keras/backend/tensorflow_backend.py:422: The name tf.global_variables is deprecated. Please use tf.compat.v1.global_variables instead.\n",
            "\n",
            "Epoch 1/2\n",
            "60000/60000 [==============================] - 5s 83us/step - loss: 0.2554 - accuracy: 0.9257\n",
            "Epoch 2/2\n",
            "60000/60000 [==============================] - 5s 80us/step - loss: 0.1040 - accuracy: 0.9689\n",
            "60000/60000 [==============================] - 3s 53us/step\n",
            "test_acc: 0.9777666926383972\n"
          ],
          "name": "stdout"
        }
      ]
    },
    {
      "cell_type": "markdown",
      "metadata": {
        "id": "a-lSmPZ562tz",
        "colab_type": "text"
      },
      "source": [
        "## Regression\n",
        "Predict the median price of homes in a given Boston suburb in the mid-1970s, given data points about the suburb at the time, such as the crime rate, the local property tax rate, and so on."
      ]
    },
    {
      "cell_type": "code",
      "metadata": {
        "id": "Hm-cLPF07bQr",
        "colab_type": "code",
        "colab": {
          "base_uri": "https://localhost:8080/",
          "height": 85
        },
        "outputId": "1536bb70-110d-4f29-cde2-7cca8f45057a"
      },
      "source": [
        "# Getting the dataset and looking into it\n",
        "from keras.datasets import boston_housing\n",
        "(train_data, train_targets), (test_data, test_targets) = boston_housing.load_data()\n",
        "print(train_data.shape)\n",
        "print(train_targets[0:10])\n",
        "\n",
        "# Normalizing with a mean of 0 and standard deviation of 1 (normal distribution)\n",
        "mean = train_data.mean(axis=0) # axis = 0 means rows i.e. mean across all the rows of the column for all columns\n",
        "std = train_data.std(axis=0)\n",
        "train_data -= mean \n",
        "train_data /= std\n",
        "test_data -= mean # Note, how we used the mean of test data here.\n",
        "test_data /= std\n",
        "\n",
        "# Building the model as a function because we’ll need to instantiate the same model multiple times\n",
        "from keras import models\n",
        "from keras import layers\n",
        "\n",
        "def build_model():\n",
        "  model = models.Sequential() \n",
        "  model.add(layers.Dense(64, activation='relu', input_shape=(train_data.shape[1],))) \n",
        "  model.add(layers.Dense(64, activation='relu'))\n",
        "  model.add(layers.Dense(1))\n",
        "  model.compile(optimizer='rmsprop', loss='mse', metrics=['mae']) \n",
        "  return model"
      ],
      "execution_count": 3,
      "outputs": [
        {
          "output_type": "stream",
          "text": [
            "Downloading data from https://s3.amazonaws.com/keras-datasets/boston_housing.npz\n",
            "57344/57026 [==============================] - 0s 1us/step\n",
            "(404, 13)\n",
            "[15.2 42.3 50.  21.1 17.7 18.5 11.3 15.6 15.6 14.4]\n"
          ],
          "name": "stdout"
        }
      ]
    },
    {
      "cell_type": "code",
      "metadata": {
        "id": "SViIq8ol-ciV",
        "colab_type": "code",
        "colab": {}
      },
      "source": [
        "# Doing k-fold cross validation as the data set is very small (404 rows only)\n",
        "import numpy as np\n",
        "k=4 # folds\n",
        "num_val_samples = len(train_data) // k # '//' is the floor operator\n",
        "num_epochs = 300\n",
        "all_mae_histories = []\n",
        "all_scores = []\n",
        "\n",
        "for i in range(k):\n",
        "  print('processing fold:', i)\n",
        "  val_data = train_data[i * num_val_samples: (i + 1) * num_val_samples] \n",
        "  val_targets = train_targets[i * num_val_samples: (i + 1) * num_val_samples]\n",
        "  partial_train_data = np.concatenate([train_data[:i * num_val_samples], train_data[(i + 1) * num_val_samples:]], axis=0)\n",
        "  partial_train_targets = np.concatenate( [train_targets[:i * num_val_samples], train_targets[(i + 1) * num_val_samples:]], axis=0)\n",
        "\n",
        "  model = build_model()\n",
        "  \"\"\" Note that the call to model.fit() returns a History object. This object has a member history, which is a dictionary containing data about everything that happened during training. \n",
        "      history_dict = history.history\n",
        "      history_dict.keys()\"\"\"\n",
        "  history = model.fit(partial_train_data, partial_train_targets, epochs=num_epochs, batch_size=1, verbose=0) # Trains the model in silent mode\n",
        "  mae_history = history.history['mae'] \n",
        "  all_mae_histories.append(mae_history) # saving the mae across each epoch from 1 to 300 for each fold to see later what epoch values keeps the MAE the lowest\n",
        "\n",
        "  val_mse, val_mae = model.evaluate(val_data, val_targets, verbose=0) # Evaluation is done on the validation dataset and not on the test\n",
        "  all_scores.append(val_mae)\n",
        "\n",
        "print(all_scores)\n",
        "print(np.mean(all_scores))\n",
        "\n",
        "# average_mae_history = [np.mean([x[i] for x in all_mae_histories]) for i in range(num_epochs)]\n",
        "average_mae_history = (np.array(all_mae_histories))\n",
        "average_mae_history = average_mae_history.mean(axis=0)\n",
        "plt.plot(range(1, len(average_mae_history) + 1), average_mae_history)\n",
        "plt.xlabel('Epochs')\n",
        "plt.ylabel('Validation MAE')\n",
        "plt.show() # We see that as the epochs increase the MAE decrease, this shouldn't be the case however as with higher epochs the model should start overfitting. Will investigate later.\n",
        "\n",
        "# final model (based on learnings on how many epochs to choose and a bigger batch size)\n",
        "model = build_model()\n",
        "model.fit(train_data, train_targets, epochs=80, batch_size=16, verbose=0)\n",
        "test_mse_score, test_mae_score = model.evaluate(test_data, test_targets)\n",
        "print(test_mae_score) # how much $ on an average the prediction is off.\n",
        "\n",
        "# Generate predictions\n",
        "print(model.predict(test_data[10:12])) # predictions for 2 samples\n",
        "print(model.predict(test_data[[10]]))  # prediction for 1 sample. Note the double square brackets. \n",
        "\n",
        "help(model.fit) # function to use to get details of a function (like ? in R language)\n"
      ],
      "execution_count": null,
      "outputs": []
    },
    {
      "cell_type": "markdown",
      "metadata": {
        "id": "IymEK4Jh3xhE",
        "colab_type": "text"
      },
      "source": [
        "## Binary classification\n",
        "\n",
        "The objective is to diagnostically predict whether or not a patient has diabetes, based on certain diagnostic measurements included in the dataset. Several constraints were placed on the selection of these instances from a larger database. In particular, all patients here are females at least 21 years old of Pima Indian heritage.\n",
        "Based on [this](https://www.bmc.com/blogs/keras-neural-network-classification/) article. Data has been sourced from the Kaggle dataset [here](https://www.kaggle.com/uciml/pima-indians-diabetes-database?select=diabetes.csv)."
      ]
    },
    {
      "cell_type": "code",
      "metadata": {
        "id": "SpCnUlOx5LQd",
        "colab_type": "code",
        "colab": {
          "base_uri": "https://localhost:8080/",
          "height": 1000
        },
        "outputId": "6eca8172-51eb-48f5-8c07-cfc41e3159f2"
      },
      "source": [
        "# Importing the pandas package\n",
        "import pandas as pd\n",
        "import numpy as np\n",
        "import seaborn as sns\n",
        "import matplotlib as plt\n",
        "\n",
        "# Loading the datasets as Pandas Dataframe\n",
        "data = pd.read_csv('https://raw.githubusercontent.com/plotly/datasets/master/diabetes.csv')\n",
        "print(data.info())     # Inspect the values of the dataframe     \n",
        "print(data.describe()) # summary statistics of the dataframe\n",
        "print(data.head(20))   # Visually inspect some rows\n",
        "\n",
        "# Check correlation \n",
        "data['BloodPressure'].corr( data[\"BMI\"]) # correlation of 1 variable with another \n",
        "corr = data.corr()                       # correlation of all variables against one another\n",
        "print(corr)\n",
        "sns.heatmap(corr,                        # Plotting the correlation heat map\n",
        "            xticklabels=corr.columns.values,\n",
        "            yticklabels=corr.columns.values)"
      ],
      "execution_count": 5,
      "outputs": [
        {
          "output_type": "stream",
          "text": [
            "/usr/local/lib/python3.6/dist-packages/statsmodels/tools/_testing.py:19: FutureWarning: pandas.util.testing is deprecated. Use the functions in the public API at pandas.testing instead.\n",
            "  import pandas.util.testing as tm\n"
          ],
          "name": "stderr"
        },
        {
          "output_type": "stream",
          "text": [
            "<class 'pandas.core.frame.DataFrame'>\n",
            "RangeIndex: 768 entries, 0 to 767\n",
            "Data columns (total 9 columns):\n",
            " #   Column                    Non-Null Count  Dtype  \n",
            "---  ------                    --------------  -----  \n",
            " 0   Pregnancies               768 non-null    int64  \n",
            " 1   Glucose                   768 non-null    int64  \n",
            " 2   BloodPressure             768 non-null    int64  \n",
            " 3   SkinThickness             768 non-null    int64  \n",
            " 4   Insulin                   768 non-null    int64  \n",
            " 5   BMI                       768 non-null    float64\n",
            " 6   DiabetesPedigreeFunction  768 non-null    float64\n",
            " 7   Age                       768 non-null    int64  \n",
            " 8   Outcome                   768 non-null    int64  \n",
            "dtypes: float64(2), int64(7)\n",
            "memory usage: 54.1 KB\n",
            "None\n",
            "       Pregnancies     Glucose  ...         Age     Outcome\n",
            "count   768.000000  768.000000  ...  768.000000  768.000000\n",
            "mean      3.845052  120.894531  ...   33.240885    0.348958\n",
            "std       3.369578   31.972618  ...   11.760232    0.476951\n",
            "min       0.000000    0.000000  ...   21.000000    0.000000\n",
            "25%       1.000000   99.000000  ...   24.000000    0.000000\n",
            "50%       3.000000  117.000000  ...   29.000000    0.000000\n",
            "75%       6.000000  140.250000  ...   41.000000    1.000000\n",
            "max      17.000000  199.000000  ...   81.000000    1.000000\n",
            "\n",
            "[8 rows x 9 columns]\n",
            "    Pregnancies  Glucose  BloodPressure  ...  DiabetesPedigreeFunction  Age  Outcome\n",
            "0             6      148             72  ...                     0.627   50        1\n",
            "1             1       85             66  ...                     0.351   31        0\n",
            "2             8      183             64  ...                     0.672   32        1\n",
            "3             1       89             66  ...                     0.167   21        0\n",
            "4             0      137             40  ...                     2.288   33        1\n",
            "5             5      116             74  ...                     0.201   30        0\n",
            "6             3       78             50  ...                     0.248   26        1\n",
            "7            10      115              0  ...                     0.134   29        0\n",
            "8             2      197             70  ...                     0.158   53        1\n",
            "9             8      125             96  ...                     0.232   54        1\n",
            "10            4      110             92  ...                     0.191   30        0\n",
            "11           10      168             74  ...                     0.537   34        1\n",
            "12           10      139             80  ...                     1.441   57        0\n",
            "13            1      189             60  ...                     0.398   59        1\n",
            "14            5      166             72  ...                     0.587   51        1\n",
            "15            7      100              0  ...                     0.484   32        1\n",
            "16            0      118             84  ...                     0.551   31        1\n",
            "17            7      107             74  ...                     0.254   31        1\n",
            "18            1      103             30  ...                     0.183   33        0\n",
            "19            1      115             70  ...                     0.529   32        1\n",
            "\n",
            "[20 rows x 9 columns]\n",
            "                          Pregnancies   Glucose  ...       Age   Outcome\n",
            "Pregnancies                  1.000000  0.129459  ...  0.544341  0.221898\n",
            "Glucose                      0.129459  1.000000  ...  0.263514  0.466581\n",
            "BloodPressure                0.141282  0.152590  ...  0.239528  0.065068\n",
            "SkinThickness               -0.081672  0.057328  ... -0.113970  0.074752\n",
            "Insulin                     -0.073535  0.331357  ... -0.042163  0.130548\n",
            "BMI                          0.017683  0.221071  ...  0.036242  0.292695\n",
            "DiabetesPedigreeFunction    -0.033523  0.137337  ...  0.033561  0.173844\n",
            "Age                          0.544341  0.263514  ...  1.000000  0.238356\n",
            "Outcome                      0.221898  0.466581  ...  0.238356  1.000000\n",
            "\n",
            "[9 rows x 9 columns]\n"
          ],
          "name": "stdout"
        },
        {
          "output_type": "execute_result",
          "data": {
            "text/plain": [
              "<matplotlib.axes._subplots.AxesSubplot at 0x7f65898f84a8>"
            ]
          },
          "metadata": {
            "tags": []
          },
          "execution_count": 5
        },
        {
          "output_type": "display_data",
          "data": {
            "image/png": "[encoded data removed]",
            "text/plain": [
              "<Figure size 432x288 with 2 Axes>"
            ]
          },
          "metadata": {
            "tags": [],
            "needs_background": "light"
          }
        }
      ]
    },
    {
      "cell_type": "code",
      "metadata": {
        "id": "ulnDpztb_NJT",
        "colab_type": "code",
        "colab": {
          "base_uri": "https://localhost:8080/",
          "height": 357
        },
        "outputId": "bf19eeb9-9afc-4d75-d2be-def601dbbd19"
      },
      "source": [
        "# Splitting the dataset into training and test datasets\n",
        "features = data.iloc[:,0:8]   # Getting all the features\n",
        "labels = data['Outcome']      # Getting the target variable\n",
        "\n",
        "from sklearn.model_selection import train_test_split\n",
        "X = features\n",
        "y = np.ravel(labels)          # To get a flattened 1D array\n",
        "train_data, test_data, train_targets, test_targets = train_test_split(X, y, test_size=0.33, random_state=42) \n",
        "\n",
        "# Normalizing the datasets\n",
        "from sklearn.preprocessing import StandardScaler\n",
        "scaler = StandardScaler().fit(train_data) \n",
        "train_data = scaler.transform(train_data)\n",
        "test_data = scaler.transform(test_data)  # The training data fit is also used for test data. Never do any standartization with the mean and stds or any other measure from test data. Use training ones always.\n",
        "\n",
        "print(train_data[:10]) # checking how the normalization looks like. Columns are removed as dataset is a numpy n-dimensional array now.\n"
      ],
      "execution_count": 6,
      "outputs": [
        {
          "output_type": "stream",
          "text": [
            "[[ 1.89917664e+00 -1.94750933e-01  1.55717838e+00 -1.32537379e+00\n",
            "  -6.85859549e-01 -1.04293476e+00  1.60661512e+00  6.90585855e-02]\n",
            " [ 9.82865509e-01  6.40463359e-01 -5.54961074e-01  8.05525757e-01\n",
            "   9.58734921e-01 -4.14806202e-01  6.26098151e-01  2.37289284e+00]\n",
            " [ 6.65543754e-02 -1.63817070e-01  1.12030334e-01 -5.50501227e-01\n",
            "   6.71916029e-02 -1.29156898e+00 -2.95311052e-02  3.25040169e-01]\n",
            " [-8.49756758e-01  1.45521556e-01 -5.54961074e-01 -1.32537379e+00\n",
            "  -6.85859549e-01 -2.44688051e-01 -3.63199566e-01  1.17831211e+00]\n",
            " [-2.38882669e-01 -1.33930385e+00  8.65099101e-04 -1.32537379e+00\n",
            "  -6.85859549e-01  6.93762291e-02 -5.94425956e-01  4.95694558e-01]\n",
            " [-8.49756758e-01 -6.89692736e-01 -6.66126308e-01 -6.79646654e-01\n",
            "  -6.85859549e-01 -8.59730598e-01  2.28037531e-01 -1.04019494e+00]\n",
            " [-8.49756758e-01  6.71397222e-01  7.79021741e-01  1.59798622e-01\n",
            "   1.99742617e+00  1.36489138e+00  1.76466860e+00 -9.54867749e-01]\n",
            " [-8.49756758e-01  2.07389282e-01  1.00135221e+00  1.19296204e+00\n",
            "   2.66274091e-01  5.92816695e-01  1.70905719e+00  3.25040169e-01]\n",
            " [ 6.77428464e-01 -1.12276681e+00  4.45526037e-01 -1.32537379e+00\n",
            "  -6.85859549e-01 -1.00741922e-01 -2.66611327e-01  7.51676142e-01]\n",
            " [-2.38882669e-01 -1.06089909e+00 -5.54961074e-01 -1.63064946e-01\n",
            "  -6.85859549e-01 -1.33082702e+00 -8.51425153e-02 -1.04019494e+00]]\n"
          ],
          "name": "stdout"
        }
      ]
    },
    {
      "cell_type": "code",
      "metadata": {
        "id": "lWLXiFc3KCQA",
        "colab_type": "code",
        "colab": {
          "base_uri": "https://localhost:8080/",
          "height": 51
        },
        "outputId": "d6a6c4ca-0c19-41c0-de9b-47ed05d3466c"
      },
      "source": [
        "# Impact of target variable treatment\n",
        "\"\"\"Note: If we pass in targets as a 1D array then the last layer will have 1 node, activation as sigmoid and loss as binary crossentropy, \n",
        "else if we change target to categorical to make it a 2 column target, last layer will have 2 nodes, activation function as softmax and loss and categorical crossentropy.\"\"\"\n",
        "print(train_targets.shape)\n",
        "temp = to_categorical(train_targets)\n",
        "temp.shape"
      ],
      "execution_count": 7,
      "outputs": [
        {
          "output_type": "stream",
          "text": [
            "(514,)\n"
          ],
          "name": "stdout"
        },
        {
          "output_type": "execute_result",
          "data": {
            "text/plain": [
              "(514, 2)"
            ]
          },
          "metadata": {
            "tags": []
          },
          "execution_count": 7
        }
      ]
    },
    {
      "cell_type": "code",
      "metadata": {
        "id": "_Kr20_oSIWnh",
        "colab_type": "code",
        "colab": {
          "base_uri": "https://localhost:8080/",
          "height": 802
        },
        "outputId": "68b661e6-dfe7-4076-d540-2ff5f1cb280d"
      },
      "source": [
        "# Building model with target variable as 1D array - treating as binary classification\n",
        "from keras import models\n",
        "from keras import layers\n",
        "\n",
        "# Building the sequential network\n",
        "network = models.Sequential()\n",
        "network.add(layers.Dense(32, activation='relu', input_shape=(8,))) \n",
        "network.add(layers.Dense(8, activation='relu'))\n",
        "network.add(layers.Dense(1, activation='sigmoid'))\n",
        "network.compile(optimizer='adam', loss='binary_crossentropy', metrics=['accuracy'])\n",
        "\n",
        "# Training the network\n",
        "network.fit(train_data, train_targets, epochs=20, batch_size=64) \n",
        "\n",
        "# Evaluating the network on test data\n",
        "test_loss, test_acc = network.evaluate(test_data, test_targets)\n",
        "print('test_acc:', test_acc)"
      ],
      "execution_count": 8,
      "outputs": [
        {
          "output_type": "stream",
          "text": [
            "WARNING:tensorflow:From /tensorflow-1.15.2/python3.6/tensorflow_core/python/ops/nn_impl.py:183: where (from tensorflow.python.ops.array_ops) is deprecated and will be removed in a future version.\n",
            "Instructions for updating:\n",
            "Use tf.where in 2.0, which has the same broadcast rule as np.where\n",
            "Epoch 1/20\n",
            "514/514 [==============================] - 0s 298us/step - loss: 0.7025 - accuracy: 0.5759\n",
            "Epoch 2/20\n",
            "514/514 [==============================] - 0s 32us/step - loss: 0.6711 - accuracy: 0.6245\n",
            "Epoch 3/20\n",
            "514/514 [==============================] - 0s 29us/step - loss: 0.6459 - accuracy: 0.6634\n",
            "Epoch 4/20\n",
            "514/514 [==============================] - 0s 27us/step - loss: 0.6271 - accuracy: 0.6946\n",
            "Epoch 5/20\n",
            "514/514 [==============================] - 0s 31us/step - loss: 0.6088 - accuracy: 0.7062\n",
            "Epoch 6/20\n",
            "514/514 [==============================] - 0s 31us/step - loss: 0.5928 - accuracy: 0.7140\n",
            "Epoch 7/20\n",
            "514/514 [==============================] - 0s 32us/step - loss: 0.5769 - accuracy: 0.7140\n",
            "Epoch 8/20\n",
            "514/514 [==============================] - 0s 31us/step - loss: 0.5621 - accuracy: 0.7198\n",
            "Epoch 9/20\n",
            "514/514 [==============================] - 0s 33us/step - loss: 0.5490 - accuracy: 0.7257\n",
            "Epoch 10/20\n",
            "514/514 [==============================] - 0s 30us/step - loss: 0.5381 - accuracy: 0.7335\n",
            "Epoch 11/20\n",
            "514/514 [==============================] - 0s 33us/step - loss: 0.5277 - accuracy: 0.7412\n",
            "Epoch 12/20\n",
            "514/514 [==============================] - 0s 32us/step - loss: 0.5186 - accuracy: 0.7471\n",
            "Epoch 13/20\n",
            "514/514 [==============================] - 0s 32us/step - loss: 0.5091 - accuracy: 0.7490\n",
            "Epoch 14/20\n",
            "514/514 [==============================] - 0s 31us/step - loss: 0.5008 - accuracy: 0.7607\n",
            "Epoch 15/20\n",
            "514/514 [==============================] - 0s 29us/step - loss: 0.4916 - accuracy: 0.7665\n",
            "Epoch 16/20\n",
            "514/514 [==============================] - 0s 35us/step - loss: 0.4845 - accuracy: 0.7685\n",
            "Epoch 17/20\n",
            "514/514 [==============================] - 0s 52us/step - loss: 0.4794 - accuracy: 0.7685\n",
            "Epoch 18/20\n",
            "514/514 [==============================] - 0s 36us/step - loss: 0.4764 - accuracy: 0.7724\n",
            "Epoch 19/20\n",
            "514/514 [==============================] - 0s 30us/step - loss: 0.4725 - accuracy: 0.7704\n",
            "Epoch 20/20\n",
            "514/514 [==============================] - 0s 31us/step - loss: 0.4682 - accuracy: 0.7763\n",
            "254/254 [==============================] - 0s 157us/step\n",
            "test_acc: 0.7322834730148315\n"
          ],
          "name": "stdout"
        }
      ]
    },
    {
      "cell_type": "code",
      "metadata": {
        "id": "SvyPQ0YVO1Xq",
        "colab_type": "code",
        "colab": {
          "base_uri": "https://localhost:8080/",
          "height": 731
        },
        "outputId": "64e70b7e-8978-4d60-9635-40b024cf9520"
      },
      "source": [
        "# Building model with target variable as 2D array - treating as multiclass classification\n",
        "from keras import models\n",
        "from keras import layers\n",
        "\n",
        "# Changing the target variables from 1D to 2D (1 variable for each class through 1 hot encoding)\n",
        "train_targets_cat = to_categorical(train_targets)\n",
        "test_targets_cat = to_categorical(test_targets)\n",
        "\n",
        "# Building the sequential network\n",
        "network = models.Sequential()\n",
        "network.add(layers.Dense(32, activation='relu', input_shape=(8,))) \n",
        "network.add(layers.Dense(8, activation='relu'))\n",
        "network.add(layers.Dense(2, activation='softmax'))\n",
        "network.compile(optimizer='adam', loss='categorical_crossentropy', metrics=['accuracy'])\n",
        "\n",
        "# Training the network\n",
        "network.fit(train_data, train_targets_cat, epochs=20, batch_size=64) \n",
        "\n",
        "# Evaluating the network on test data\n",
        "test_loss, test_acc = network.evaluate(test_data, test_targets_cat)\n",
        "print('test_acc:', test_acc)"
      ],
      "execution_count": 9,
      "outputs": [
        {
          "output_type": "stream",
          "text": [
            "Epoch 1/20\n",
            "514/514 [==============================] - 0s 231us/step - loss: 0.6663 - accuracy: 0.6479\n",
            "Epoch 2/20\n",
            "514/514 [==============================] - 0s 31us/step - loss: 0.6508 - accuracy: 0.6479\n",
            "Epoch 3/20\n",
            "514/514 [==============================] - 0s 34us/step - loss: 0.6362 - accuracy: 0.6498\n",
            "Epoch 4/20\n",
            "514/514 [==============================] - 0s 30us/step - loss: 0.6231 - accuracy: 0.6498\n",
            "Epoch 5/20\n",
            "514/514 [==============================] - 0s 39us/step - loss: 0.6101 - accuracy: 0.6518\n",
            "Epoch 6/20\n",
            "514/514 [==============================] - 0s 30us/step - loss: 0.5989 - accuracy: 0.6498\n",
            "Epoch 7/20\n",
            "514/514 [==============================] - 0s 30us/step - loss: 0.5882 - accuracy: 0.6556\n",
            "Epoch 8/20\n",
            "514/514 [==============================] - 0s 38us/step - loss: 0.5774 - accuracy: 0.6576\n",
            "Epoch 9/20\n",
            "514/514 [==============================] - 0s 30us/step - loss: 0.5675 - accuracy: 0.6634\n",
            "Epoch 10/20\n",
            "514/514 [==============================] - 0s 30us/step - loss: 0.5576 - accuracy: 0.6732\n",
            "Epoch 11/20\n",
            "514/514 [==============================] - 0s 38us/step - loss: 0.5492 - accuracy: 0.6868\n",
            "Epoch 12/20\n",
            "514/514 [==============================] - 0s 39us/step - loss: 0.5391 - accuracy: 0.6984\n",
            "Epoch 13/20\n",
            "514/514 [==============================] - 0s 44us/step - loss: 0.5303 - accuracy: 0.7296\n",
            "Epoch 14/20\n",
            "514/514 [==============================] - 0s 56us/step - loss: 0.5210 - accuracy: 0.7315\n",
            "Epoch 15/20\n",
            "514/514 [==============================] - 0s 38us/step - loss: 0.5123 - accuracy: 0.7354\n",
            "Epoch 16/20\n",
            "514/514 [==============================] - 0s 33us/step - loss: 0.5049 - accuracy: 0.7490\n",
            "Epoch 17/20\n",
            "514/514 [==============================] - 0s 32us/step - loss: 0.4980 - accuracy: 0.7529\n",
            "Epoch 18/20\n",
            "514/514 [==============================] - 0s 30us/step - loss: 0.4909 - accuracy: 0.7607\n",
            "Epoch 19/20\n",
            "514/514 [==============================] - 0s 31us/step - loss: 0.4848 - accuracy: 0.7685\n",
            "Epoch 20/20\n",
            "514/514 [==============================] - 0s 38us/step - loss: 0.4818 - accuracy: 0.7782\n",
            "254/254 [==============================] - 0s 224us/step\n",
            "test_acc: 0.7204724550247192\n"
          ],
          "name": "stdout"
        }
      ]
    }
  ]
}