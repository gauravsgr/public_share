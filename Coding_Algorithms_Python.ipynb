{
  "nbformat": 4,
  "nbformat_minor": 0,
  "metadata": {
    "colab": {
      "name": "Algorithm Practice.ipynb",
      "provenance": [],
      "collapsed_sections": []
    },
    "kernelspec": {
      "name": "python3",
      "display_name": "Python 3"
    }
  },
  "cells": [
    {
      "cell_type": "markdown",
      "metadata": {
        "id": "Qv4gXj_UoKo4",
        "colab_type": "text"
      },
      "source": [
        "This file contains python implementation of some algorithms. These are problems from [this book](https://www.amazon.com/Cracking-PM-Interview-Product-Technology/dp/0984782818)."
      ]
    },
    {
      "cell_type": "code",
      "metadata": {
        "id": "lysVNoWOISKI",
        "colab_type": "code",
        "colab": {
          "base_uri": "https://localhost:8080/",
          "height": 102
        },
        "outputId": "2bff00cd-d17e-473b-b074-fe326a6c3270"
      },
      "source": [
        "# Time complexity: O(n)\n",
        "def insertNumSortedArray(arr, num):\n",
        "  '''16.1 Given a sorted array of positive integers with an empty spot (zero) at the end, insert an element in sorted order.'''\n",
        "  temp = 0\n",
        "  for i in range(len(arr)):\n",
        "    if num < arr[i]:\n",
        "      temp = arr[i]\n",
        "      arr[i] = num\n",
        "      num = temp\n",
        "  arr.append(num)\n",
        "  return arr\n",
        "\n",
        "arr1 = [2, 4, 13, 24, 34, 55, 67]\n",
        "insertNumSortedArray(arr1, 9)\n",
        "\n",
        "# Time complexity: O(n^2) // N of insertNumSortedArray and N of insertionSort (loop in loop)\n",
        "def insertionSort(arr):\n",
        "  '''16.14 Implement insertion sort'''\n",
        "  temp = []\n",
        "  for i in range(len(arr)):\n",
        "    print('i',temp, arr[i])\n",
        "    temp = insertNumSortedArray(temp, arr[i])    \n",
        "  return temp\n",
        "\n",
        "insertionSort([2, 343, 23, 234]) "
      ],
      "execution_count": null,
      "outputs": [
        {
          "output_type": "stream",
          "text": [
            "i [] 2\n",
            "i [2] 343\n",
            "i [2, 343] 23\n",
            "i [2, 23, 343] 234\n"
          ],
          "name": "stdout"
        },
        {
          "output_type": "execute_result",
          "data": {
            "text/plain": [
              "[2, 23, 234, 343]"
            ]
          },
          "metadata": {
            "tags": []
          },
          "execution_count": 65
        }
      ]
    },
    {
      "cell_type": "code",
      "metadata": {
        "id": "4El9q_oPMsqt",
        "colab_type": "code",
        "colab": {
          "base_uri": "https://localhost:8080/",
          "height": 34
        },
        "outputId": "a299f8a2-343e-44a5-cc1a-81a47f3fed7f"
      },
      "source": [
        "def reverseArray(arr):\n",
        "  '''16.2 Reverse the order of elements in an array (without creating a new array).'''\n",
        "  temp = 0\n",
        "  arr_len = len(arr)\n",
        "  for i in range(arr_len//2):\n",
        "    temp = arr[i]\n",
        "    arr[i] = arr[arr_len-i-1]\n",
        "    arr[arr_len-i-1] = temp\n",
        "  return arr\n",
        "\n",
        "arr1 = [2, 4, 13, 24, 34, 55, 67]\n",
        "reverseArray(arr1)"
      ],
      "execution_count": null,
      "outputs": [
        {
          "output_type": "execute_result",
          "data": {
            "text/plain": [
              "[67, 55, 34, 24, 13, 4, 2]"
            ]
          },
          "metadata": {
            "tags": []
          },
          "execution_count": 23
        }
      ]
    },
    {
      "cell_type": "code",
      "metadata": {
        "id": "uMoD4mJTTnJn",
        "colab_type": "code",
        "colab": {
          "base_uri": "https://localhost:8080/",
          "height": 34
        },
        "outputId": "4284a04f-e1cd-4146-82e4-dc090e3eefea"
      },
      "source": [
        "# Bad way - complexity of O(n^2)\n",
        "def isSubset(arrA, arrB):\n",
        "  '''16.3 Given two lists (A and B) of unique strings, write a program to determine if A is a subset of B. That is, check if all the elements from A are contained in B.'''\n",
        "  flag = False\n",
        "  for elemA in arrA:\n",
        "    for elemB in arrB:\n",
        "       if elemA == elemB:\n",
        "         flag = True\n",
        "         break\n",
        "    return flag\n",
        "  return flag\n",
        "\n",
        "arr1 = [2, 4, 13, 24, 34, 55, 67]\n",
        "arr2 = [2, 4, 13]\n",
        "isSubset(arr2, arr1)\n",
        "\n",
        "# Good way - complexity of O(n)\n",
        "def isSubset(arrA, arrB):\n",
        "  dic = {}\n",
        "  for elem in arrB:\n",
        "    dic[elem] = 1 # Creating a dictionary of array B\n",
        "  for elem in arrA:\n",
        "    if elem not in dic:\n",
        "      return False\n",
        "  return True\n",
        "\n",
        "arr1 = [2, 4, 13, 24, 34, 55, 67]\n",
        "arr2 = [2, 4, 13]\n",
        "isSubset(arr2, arr1)"
      ],
      "execution_count": null,
      "outputs": [
        {
          "output_type": "execute_result",
          "data": {
            "text/plain": [
              "True"
            ]
          },
          "metadata": {
            "tags": []
          },
          "execution_count": 24
        }
      ]
    },
    {
      "cell_type": "code",
      "metadata": {
        "id": "MfCgBfcCZP4K",
        "colab_type": "code",
        "colab": {
          "base_uri": "https://localhost:8080/",
          "height": 34
        },
        "outputId": "bf905030-cc52-48b8-9cee-6b4de116d692"
      },
      "source": [
        "# Time complexity: O(n)\n",
        "def sumQuantity(arr):\n",
        "  '''16.4 You are given a two-dimensional array of sales data where the first column is a product ID and the second column is the quantity. \n",
        "  Write a function to take this list of data and return a new two- dimensional array with the total sales for each product ID.'''\n",
        "  dic = {}\n",
        "  for elem in arr:\n",
        "    if elem[0] not in dic:\n",
        "      dic[elem[0]] = elem[1]\n",
        "    else:\n",
        "      dic[elem[0]] = elem[1] + dic[elem[0]]\n",
        "  dic = [[k,v] for k,v in dic.items()] # Converting dictionary to 2D list\n",
        "  return dic \n",
        "\n",
        "arr = [[211, 4], [262, 3], [211, 5], [216, 6]] # First part is productID and second the quantity\n",
        "sumQuantity(arr)"
      ],
      "execution_count": null,
      "outputs": [
        {
          "output_type": "execute_result",
          "data": {
            "text/plain": [
              "[[211, 9], [262, 3], [216, 6]]"
            ]
          },
          "metadata": {
            "tags": []
          },
          "execution_count": 38
        }
      ]
    },
    {
      "cell_type": "code",
      "metadata": {
        "id": "nAmHevxJpQmQ",
        "colab_type": "code",
        "colab": {
          "base_uri": "https://localhost:8080/",
          "height": 34
        },
        "outputId": "4db55e31-8ee8-4a17-db22-b938ab6358c5"
      },
      "source": [
        "# Time complexity: O(n)\n",
        "def merge(arr1, arr2):\n",
        "  '''16.13 Given two sorted arrays, write a function to merge them in sorted order into a new array.'''\n",
        "  temp = []\n",
        "  i = j = 0\n",
        "  while (i<len(arr1) and j < len(arr2)):\n",
        "    if arr1[i] > arr2[j]:\n",
        "      temp.append(arr2[j])\n",
        "      j+=1\n",
        "    else:\n",
        "      temp.append(arr1[i])\n",
        "      i+=1\n",
        "  while i<len(arr1): # Copying the left over of the array\n",
        "    temp.append(arr1[i])\n",
        "    i+=1\n",
        "  while j<len(arr2): # Copying the left over of the array\n",
        "    temp.append(arr2[j])\n",
        "    j+=1\n",
        "  return temp\n",
        "\n",
        "arrA = [3, 6, 19]\n",
        "arrB = [13, 500, 4234]\n",
        "merge(arrA, arrB)\n",
        "\n",
        "# Time complexity: O(n.logn) // N of merge and logN of binary breakdown i.e. divide and conquer\n",
        "def mergeSort(arr):\n",
        "  '''Implementing merge sort'''\n",
        "  if len(arr) > 1:\n",
        "    mid = len(arr) // 2\n",
        "    left = arr[:mid]\n",
        "    right = arr[mid:]\n",
        "\n",
        "    # Recursive call on each half\n",
        "    mergeSort(left)\n",
        "    mergeSort(right)\n",
        "\n",
        "    return merge(left, right)\n",
        "\n",
        "mergeSort([2, 343, 23, 234]) "
      ],
      "execution_count": null,
      "outputs": [
        {
          "output_type": "execute_result",
          "data": {
            "text/plain": [
              "[3, 6, 13, 19, 500, 4234]"
            ]
          },
          "metadata": {
            "tags": []
          },
          "execution_count": 34
        }
      ]
    },
    {
      "cell_type": "code",
      "metadata": {
        "id": "ZmC_00MSxYoA",
        "colab_type": "code",
        "colab": {
          "base_uri": "https://localhost:8080/",
          "height": 85
        },
        "outputId": "2d6cb5a6-8b9b-4000-a8d8-7618a6fb8fbd"
      },
      "source": [
        "def minRotatedArray(arr):\n",
        "  print(arr)\n",
        "  if arr[0] <= arr[len(arr)-1]:\n",
        "    print('==',arr[0])\n",
        "    return\n",
        "  if (len(arr) >= 2):\n",
        "    if len(arr) == 2 and arr[0] >= arr[len(arr)-1]:\n",
        "      print('---',arr[1])\n",
        "    else:\n",
        "      mid = len(arr)//2\n",
        "      left = arr[:mid]\n",
        "      right = arr[mid:]\n",
        "      if left[0] >= left[len(left)-1] and len(left) > 1:\n",
        "        minRotatedArray(left)\n",
        "      else: \n",
        "        minRotatedArray(right)\n",
        "\n",
        "minRotatedArray([6, 8, 9, 11, 15, 20, 3, 4, 5])\n",
        "#minRotatedArray([6, 8, 9, 11, 15, 20, 21, 23, 5])"
      ],
      "execution_count": null,
      "outputs": [
        {
          "output_type": "stream",
          "text": [
            "[6, 8, 9, 11, 15, 20, 3, 4, 5]\n",
            "[15, 20, 3, 4, 5]\n",
            "[3, 4, 5]\n",
            "== 3\n"
          ],
          "name": "stdout"
        }
      ]
    },
    {
      "cell_type": "code",
      "metadata": {
        "id": "0Zx33_x8iZWv",
        "colab_type": "code",
        "colab": {
          "base_uri": "https://localhost:8080/",
          "height": 85
        },
        "outputId": "fbd1bafa-c2ba-41cd-bbb3-30063da0c718"
      },
      "source": [
        "def minRotatedArray(arr):\n",
        "  '''16.16 You are given an integer array which was sorted, but then rotated. It contains all distinct elements. \n",
        "  Find the minimum value. For example, the array might be 6, 8, 9, 11, 15, 20, 3, 4, 5. The minimum value would obviously be 3.'''\n",
        "  print(arr)\n",
        "  if arr[0] <= arr[len(arr)-1]:\n",
        "    print('==',arr[0])\n",
        "    return\n",
        "  if len(arr) == 2 and arr[0] >= arr[len(arr)-1]:\n",
        "    print('---',arr[1])\n",
        "    \n",
        "  else:\n",
        "    mid = len(arr)//2\n",
        "    left = arr[:mid]\n",
        "    right = arr[mid:]\n",
        "    if left[0] >= left[len(left)-1] and len(left) > 1:\n",
        "      minRotatedArray(left)\n",
        "    else: \n",
        "      minRotatedArray(right)\n",
        "\n",
        "minRotatedArray([6, 8, 9, 11, 15, 20, 3, 4, 5])\n",
        "#minRotatedArray([6, 8, 9, 11, 15, 20, 21, 23, 5])"
      ],
      "execution_count": null,
      "outputs": [
        {
          "output_type": "stream",
          "text": [
            "[6, 8, 9, 11, 15, 20, 3, 4, 5]\n",
            "[15, 20, 3, 4, 5]\n",
            "[3, 4, 5]\n",
            "None\n"
          ],
          "name": "stdout"
        }
      ]
    },
    {
      "cell_type": "code",
      "metadata": {
        "id": "QYxWdOO6vJ_s",
        "colab_type": "code",
        "colab": {
          "base_uri": "https://localhost:8080/",
          "height": 85
        },
        "outputId": "74874019-8609-476c-a3b0-914ac0732270"
      },
      "source": [
        "def minRotatedArray(arr):\n",
        "  '''16.16 You are given an integer array which was sorted, but then rotated. It contains all distinct elements. \n",
        "  Find the minimum value. For example, the array might be 6, 8, 9, 11, 15, 20, 3, 4, 5. The minimum value would obviously be 3.'''\n",
        "  print(arr)\n",
        "  if arr[0] <= arr[len(arr)-1]:\n",
        "    min = arr[0]\n",
        "    return min\n",
        "  if len(arr) == 2 and arr[0] >= arr[len(arr)-1]:\n",
        "    min = arr[1]\n",
        "    return min\n",
        "    \n",
        "  else:\n",
        "    mid = len(arr)//2\n",
        "    left = arr[:mid]\n",
        "    right = arr[mid:]\n",
        "    if left[0] >= left[len(left)-1] and len(left) > 1:\n",
        "      min = minRotatedArray(left)\n",
        "    else: \n",
        "      min = minRotatedArray(right)\n",
        "    return min\n",
        "\n",
        "minRotatedArray([6, 8, 9, 11, 15, 20, 3, 4, 5])\n",
        "#minRotatedArray([6, 8, 9, 11, 15, 20, 21, 23, 5])"
      ],
      "execution_count": null,
      "outputs": [
        {
          "output_type": "stream",
          "text": [
            "[6, 8, 9, 11, 15, 20, 3, 4, 5]\n",
            "[15, 20, 3, 4, 5]\n",
            "[3, 4, 5]\n"
          ],
          "name": "stdout"
        },
        {
          "output_type": "execute_result",
          "data": {
            "text/plain": [
              "3"
            ]
          },
          "metadata": {
            "tags": []
          },
          "execution_count": 4
        }
      ]
    },
    {
      "cell_type": "code",
      "metadata": {
        "id": "aG0SwUWR2j6H",
        "colab_type": "code",
        "colab": {
          "base_uri": "https://localhost:8080/",
          "height": 34
        },
        "outputId": "959fcfd2-57b1-4b99-94ad-3a07f1cdfba0"
      },
      "source": [
        "# Time complexity: O(n)\n",
        "def addCharToString(strin, pos, val):\n",
        "  '''Returns a string with a character value in a particular position'''\n",
        "  temp = []\n",
        "  for i in range(len(strin)):\n",
        "    if pos == i:\n",
        "      temp.append(val)\n",
        "      pos = -1\n",
        "    temp.append(strin[i])\n",
        "  return ''.join(temp) # concatenating all strings in a list in 1 string\n",
        "\n",
        "# Time complexity: O(n^2) // N of addCharToString and N of the for loop here\n",
        "def makePermutations(s, ch):\n",
        "  '''Make the permutations of a string with the addition of a new character to it'''\n",
        "  temp = []\n",
        "  for i in range(len(s)):\n",
        "    temp.append(addCharToString(s, i, ch))\n",
        "  temp.append(s + ch)\n",
        "  return temp\n",
        "\n",
        "# Time complexity: O(n!) // There is O(n^2) from the above the makePermutations, however, this recursion increases size of array in n! order. \n",
        "# So technically, its O(n! * n^2) or simply n! as its the max.\n",
        "def permuteString(word, strList = [], i=0):\n",
        "  '''16.20 Given a string, print all permutations of that string. You can assume the word does not have any duplicate characters.'''\n",
        "  if len(strList) == 0: strList = [word[0]]\n",
        "  if i != len(word)-1:  \n",
        "    i+=1\n",
        "    newList = []\n",
        "    for elem in strList:\n",
        "      newstrList = makePermutations(elem, word[i])\n",
        "      newList = newList + newstrList # Concatenating 2 lists\n",
        "    return permuteString(word, newList, i)\n",
        "  else:\n",
        "    return strList\n",
        "\n",
        "permuteString('abc') # pass in the first alphabet as a single element list and the word and the first index\n",
        "\n"
      ],
      "execution_count": null,
      "outputs": [
        {
          "output_type": "execute_result",
          "data": {
            "text/plain": [
              "['cba', 'bca', 'bac', 'cab', 'acb', 'abc']"
            ]
          },
          "metadata": {
            "tags": []
          },
          "execution_count": 73
        }
      ]
    },
    {
      "cell_type": "code",
      "metadata": {
        "id": "8_NFH1N15QNH",
        "colab_type": "code",
        "colab": {
          "base_uri": "https://localhost:8080/",
          "height": 34
        },
        "outputId": "a9cdcef5-7221-44b2-bbf3-cbf744a60e71"
      },
      "source": [
        "# Time complexity: O(n) \n",
        "def partition(arr, low, high):\n",
        "  '''Given an array and two indexes of the array that denote the start (low) and end (high) of the subsequence of the array,\n",
        "  move all the elements smaller than the array[high] called pivot to the left of this pivot value and all elements greater \n",
        "  in this sub-array to the right'''\n",
        "  pivot = arr[high] # last element\n",
        "  i = low\n",
        "  for j in range(low, high):\n",
        "    if arr[j] < pivot:\n",
        "      temp = arr[j]\n",
        "      arr[j] = arr[i]\n",
        "      arr[i] = temp\n",
        "      i+=1\n",
        "  temp = arr[i]\n",
        "  arr[i] = arr[high]\n",
        "  arr[high] = temp\n",
        "  return i\n",
        "\n",
        "# Time complexity: O(n.logn) // N from the partition function and logN of the divide and conquer that pivot does\n",
        "def quickSort(ar, low=0, high=None):\n",
        "  '''Implement quick sort algorithm'''\n",
        "  if high is None: high = len(ar)-1\n",
        "  if low < high:\n",
        "    partVal = partition(ar, low, high)\n",
        "    quickSort(ar, low, partVal-1)\n",
        "    quickSort(ar, partVal+1, high)\n",
        "  return ar\n",
        "\n",
        "ar = [35,49,24,20,18,24,37]\n",
        "quickSort(ar)\n"
      ],
      "execution_count": null,
      "outputs": [
        {
          "output_type": "execute_result",
          "data": {
            "text/plain": [
              "[18, 20, 24, 24, 35, 37, 49]"
            ]
          },
          "metadata": {
            "tags": []
          },
          "execution_count": 16
        }
      ]
    }
  ]
}